{
 "cells": [
  {
   "cell_type": "code",
   "execution_count": null,
   "id": "09e514ed-736e-4537-9ef8-ae29d6159222",
   "metadata": {},
   "outputs": [],
   "source": []
  }
 ],
 "metadata": {
  "kernelspec": {
   "display_name": "",
   "name": ""
  },
  "language_info": {
   "name": ""
  }
 },
 "nbformat": 4,
 "nbformat_minor": 5
}
